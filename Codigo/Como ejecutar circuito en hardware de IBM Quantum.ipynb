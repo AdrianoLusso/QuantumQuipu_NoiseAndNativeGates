{
 "cells": [
  {
   "cell_type": "markdown",
   "id": "cac5a30c",
   "metadata": {},
   "source": [
    "# Como ejecutar circuitos en hardware de IBM Quantum"
   ]
  },
  {
   "cell_type": "code",
   "execution_count": null,
   "id": "7891bfd2",
   "metadata": {},
   "outputs": [],
   "source": [
    "token = '' #ingresar token\n"
   ]
  },
  {
   "cell_type": "code",
   "execution_count": null,
   "id": "ddff4eef",
   "metadata": {},
   "outputs": [],
   "source": [
    "#MOSTRAR BACKENDS DE IBMQ\n",
    "IBMProvider.save_account(token= token, overwrite=True)\n",
    "provider = IBMProvider()\n",
    "print(provider.backends())"
   ]
  },
  {
   "cell_type": "code",
   "execution_count": null,
   "id": "428488a5",
   "metadata": {},
   "outputs": [],
   "source": [
    "#BACKEND DE IBMQ ELEGIDO\n",
    "backend = provider.get_backend('backend elegido')"
   ]
  },
  {
   "cell_type": "code",
   "execution_count": null,
   "id": "e07b7f96",
   "metadata": {},
   "outputs": [],
   "source": [
    "#EJECUTAR CIRCUITO EN EL HARDWARE\n",
    "qc_transpiled = transpile(qc,backend)\n",
    "result = backend.run(qc_transpiled,shots=shots).result()"
   ]
  }
 ],
 "metadata": {
  "kernelspec": {
   "display_name": "Python 3 (ipykernel)",
   "language": "python",
   "name": "python3"
  },
  "language_info": {
   "codemirror_mode": {
    "name": "ipython",
    "version": 3
   },
   "file_extension": ".py",
   "mimetype": "text/x-python",
   "name": "python",
   "nbconvert_exporter": "python",
   "pygments_lexer": "ipython3",
   "version": "3.10.11"
  }
 },
 "nbformat": 4,
 "nbformat_minor": 5
}
