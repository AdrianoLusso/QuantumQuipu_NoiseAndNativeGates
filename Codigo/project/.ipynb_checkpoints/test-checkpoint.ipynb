{
 "cells": [
  {
   "cell_type": "markdown",
   "id": "7957b159",
   "metadata": {},
   "source": [
    "CORRECCIONES: El depolarizing error the qiskit no respeta la convencion del paper. Cambiar a pauli error.\n"
   ]
  },
  {
   "cell_type": "code",
   "execution_count": 1,
   "id": "a65dd38a",
   "metadata": {},
   "outputs": [
    {
     "name": "stdout",
     "output_type": "stream",
     "text": [
      "[0.8200000000000001, 0.02, 0.02, 0.02, 0.02, 0.02, 0.02, 0.02, 0.02, 0.02]\n",
      "QuantumError on 2 qubits. Noise circuits:\n",
      "  P(0) = 0.8199999999999998, Circuit = \n",
      "     ┌────────────┐\n",
      "q_0: ┤0           ├\n",
      "     │  Pauli(II) │\n",
      "q_1: ┤1           ├\n",
      "     └────────────┘\n",
      "  P(1) = 0.019999999999999997, Circuit = \n",
      "     ┌────────────┐\n",
      "q_0: ┤0           ├\n",
      "     │  Pauli(IX) │\n",
      "q_1: ┤1           ├\n",
      "     └────────────┘\n",
      "  P(2) = 0.019999999999999997, Circuit = \n",
      "     ┌────────────┐\n",
      "q_0: ┤0           ├\n",
      "     │  Pauli(IY) │\n",
      "q_1: ┤1           ├\n",
      "     └────────────┘\n",
      "  P(3) = 0.019999999999999997, Circuit = \n",
      "     ┌────────────┐\n",
      "q_0: ┤0           ├\n",
      "     │  Pauli(IZ) │\n",
      "q_1: ┤1           ├\n",
      "     └────────────┘\n",
      "  P(4) = 0.019999999999999997, Circuit = \n",
      "     ┌────────────┐\n",
      "q_0: ┤0           ├\n",
      "     │  Pauli(XI) │\n",
      "q_1: ┤1           ├\n",
      "     └────────────┘\n",
      "  P(5) = 0.019999999999999997, Circuit = \n",
      "     ┌────────────┐\n",
      "q_0: ┤0           ├\n",
      "     │  Pauli(XX) │\n",
      "q_1: ┤1           ├\n",
      "     └────────────┘\n",
      "  P(6) = 0.019999999999999997, Circuit = \n",
      "     ┌────────────┐\n",
      "q_0: ┤0           ├\n",
      "     │  Pauli(XY) │\n",
      "q_1: ┤1           ├\n",
      "     └────────────┘\n",
      "  P(7) = 0.019999999999999997, Circuit = \n",
      "     ┌────────────┐\n",
      "q_0: ┤0           ├\n",
      "     │  Pauli(XZ) │\n",
      "q_1: ┤1           ├\n",
      "     └────────────┘\n",
      "  P(8) = 0.019999999999999997, Circuit = \n",
      "     ┌────────────┐\n",
      "q_0: ┤0           ├\n",
      "     │  Pauli(YI) │\n",
      "q_1: ┤1           ├\n",
      "     └────────────┘\n",
      "  P(9) = 0.019999999999999997, Circuit = \n",
      "     ┌────────────┐\n",
      "q_0: ┤0           ├\n",
      "     │  Pauli(YX) │\n",
      "q_1: ┤1           ├\n",
      "     └────────────┘\n"
     ]
    }
   ],
   "source": [
    "import itertools as it\n",
    "from qiskit.quantum_info.operators import Pauli\n",
    "\n",
    "from qiskit_aer.noise.errors.quantum_error import QuantumError\n",
    "def depolarizing_error(param, num_qubits):\n",
    "    r\"\"\"\n",
    "    Return a depolarizing quantum error channel.\n",
    "\n",
    "    The depolarizing channel is defined as:\n",
    "\n",
    "    .. math::\n",
    "\n",
    "        E(ρ) = (1 - λ) ρ + λ \\text{Tr}[ρ] \\frac{I}{2^n}\n",
    "\n",
    "    with :math:`0 \\le λ \\le 4^n / (4^n - 1)`\n",
    "\n",
    "    where :math:`λ` is the depolarizing error param and :math:`n` is the\n",
    "    number of qubits.\n",
    "\n",
    "    * If :math:`λ = 0` this is the identity channel :math:`E(ρ) = ρ`\n",
    "    * If :math:`λ = 1` this is a completely depolarizing channel\n",
    "      :math:`E(ρ) = I / 2^n`\n",
    "    * If :math:`λ = 4^n / (4^n - 1)` this is a uniform Pauli\n",
    "      error channel: :math:`E(ρ) = \\sum_j P_j ρ P_j / (4^n - 1)` for\n",
    "      all :math:`P_j != I`.\n",
    "\n",
    "    Args:\n",
    "        param (double): depolarizing error parameter.\n",
    "        num_qubits (int): the number of qubits for the error channel.\n",
    "\n",
    "    Returns:\n",
    "        QuantumError: The quantum error object.\n",
    "\n",
    "    Raises:\n",
    "        NoiseError: If noise parameters are invalid.\n",
    "    \"\"\"\n",
    "    if not isinstance(num_qubits, int) or num_qubits < 1:\n",
    "        raise NoiseError(\"num_qubits must be a positive integer.\")\n",
    "    # Check that the depolarizing parameter gives a valid CPTP\n",
    "    num_terms = 3**num_qubits\n",
    "    max_param = num_terms / (num_terms - 1)\n",
    "    if param < 0 or param > max_param:\n",
    "        raise NoiseError(\"Depolarizing parameter must be in between 0 \" \"and {}.\".format(max_param))\n",
    "\n",
    "    # Rescale completely depolarizing channel error probs\n",
    "    # with the identity component removed\n",
    "    prob_iden = 1 - param\n",
    "    #print(prob_iden)\n",
    "    prob_pauli = param / num_terms\n",
    "    #print(param)\n",
    "    #print(num_terms)\n",
    "    #print(prob_pauli)\n",
    "    probs = [prob_iden] + (num_terms) * [prob_pauli]\n",
    "    print(probs)\n",
    "    \n",
    "    # Generate pauli strings. The order doesn't matter as long\n",
    "    # as the all identity string is first.\n",
    "    paulis = [Pauli(\"\".join(tup)) for tup in it.product([\"I\",\"X\", \"Y\", \"Z\"], repeat=num_qubits)]\n",
    "    return QuantumError(zip(paulis, probs))\n",
    "print(depolarizing_error(0.18,2))"
   ]
  },
  {
   "cell_type": "markdown",
   "id": "120d13ca",
   "metadata": {},
   "source": [
    "# TEST"
   ]
  },
  {
   "cell_type": "code",
   "execution_count": 2,
   "id": "b1299774",
   "metadata": {},
   "outputs": [],
   "source": [
    "from unified_noise_model.Unified_Noise_Model import Unified_Noise_Model\n",
    "from qiskit.circuit.library import XGate"
   ]
  },
  {
   "cell_type": "code",
   "execution_count": 11,
   "id": "aee71355",
   "metadata": {},
   "outputs": [
    {
     "name": "stdout",
     "output_type": "stream",
     "text": [
      "NoiseModel:\n",
      "  Basis gates: ['cx', 'id', 'rz', 'sx']\n",
      "  Instructions with noise: ['sx', 'cx']\n",
      "  All-qubits errors: ['sx', 'cx']\n"
     ]
    }
   ],
   "source": [
    "# UNM with dep. channel\n",
    "a = Unified_Noise_Model()\n",
    "a.add_depolarizing_channel(\n",
    "0.5,\n",
    "['sx'],\n",
    "['cx'])\n",
    "print(a.noise_model)\n",
    "\n",
    "#print('----------------------------------------------------------')\n",
    "#print(a.one_qubit_gates_depolarizing_noise_channel)\n",
    "#print('----------------------------------------------------------')\n",
    "#print(a.two_qubits_gates_depolarizing_noise_channel)\n"
   ]
  },
  {
   "cell_type": "code",
   "execution_count": 16,
   "id": "9eb81f66",
   "metadata": {},
   "outputs": [
    {
     "name": "stdout",
     "output_type": "stream",
     "text": [
      "NoiseModel:\n",
      "  Basis gates: ['cx', 'cz', 'id', 'rz', 'sx']\n",
      "  Instructions with noise: ['sx', 'cz', 'cx', 'rz']\n",
      "  Qubits with noise: [0, 1]\n",
      "  Specific qubit errors: [('sx', (0,)), ('sx', (1,)), ('rz', (0,)), ('rz', (1,)), ('cx', (0, 0)), ('cx', (0, 1)), ('cx', (1, 0)), ('cx', (1, 1)), ('cz', (0, 0)), ('cz', (0, 1)), ('cz', (1, 0)), ('cz', (1, 1))]\n"
     ]
    }
   ],
   "source": [
    "# UNM with relax. deph. channel\n",
    "a = Unified_Noise_Model()\n",
    "a.add_relaxation_dephasing_channel(\n",
    "range(2),[0.4,0.4],\n",
    "[0.1,0.2],\n",
    "['sx','rz'],\n",
    "[[0.1,0.3],[0.2,0.4]],\n",
    "['cx','cz'],\n",
    "[0.3,0.4])\n",
    "print(a.noise_model)\n",
    "\n",
    "#print(a.one_qubit_gates_relaxation_dephasing_noise_channel)\n",
    "#print('----------------------------------------------------------')\n",
    "#print(a.two_qubits_gates_relaxation_dephasing_noise_channel)\n",
    "#print('----------------------------------------------------------')\n"
   ]
  },
  {
   "cell_type": "code",
   "execution_count": 17,
   "id": "43d132fd",
   "metadata": {},
   "outputs": [
    {
     "name": "stdout",
     "output_type": "stream",
     "text": [
      "NoiseModel:\n",
      "  Basis gates: ['cx', 'id', 'rz', 'sx', 'x']\n",
      "  Instructions with noise: ['measure', 'x_StatePreparation']\n",
      "  All-qubits errors: ['x_StatePreparation', 'measure']\n"
     ]
    }
   ],
   "source": [
    "# UNM with SPAM channel\n",
    "x_StatePreparation = XGate(label='x_StatePreparation')\n",
    "a = Unified_Noise_Model()\n",
    "a.add_spam_channel(\n",
    "    0.3,\n",
    "    0.5,\n",
    "    x_StatePreparation\n",
    ")\n",
    "print(a.noise_model)"
   ]
  },
  {
   "cell_type": "code",
   "execution_count": 18,
   "id": "783e9f9e",
   "metadata": {
    "run_control": {
     "marked": false
    }
   },
   "outputs": [
    {
     "name": "stdout",
     "output_type": "stream",
     "text": [
      "NoiseModel:\n",
      "  Basis gates: ['cx', 'id', 'rz', 'sx', 'x', 'y']\n",
      "  Instructions with noise: ['measure', 'x_StatePreparation', 'x', 'cx', 'y']\n",
      "  Qubits with noise: [0, 1]\n",
      "  All-qubits errors: ['x_StatePreparation', 'measure']\n",
      "  Specific qubit errors: [('x', (0,)), ('x', (1,)), ('y', (0,)), ('y', (1,)), ('cx', (0, 0)), ('cx', (0, 1)), ('cx', (1, 0)), ('cx', (1, 1))]\n"
     ]
    }
   ],
   "source": [
    "# Complete UNM\n",
    "x_StatePreparation = XGate(label='x_StatePreparation')\n",
    "a = Unified_Noise_Model()\n",
    "\n",
    "a.add_all_noise_channels(0.3,\n",
    "    0.4,\n",
    "    x_StatePreparation,\n",
    "    0.2,\n",
    "    ['x','y'],\n",
    "    [[2,3],[3,4]],\n",
    "    ['cx'],\n",
    "    [0.4,2],\n",
    "    range(2),\n",
    "    [3,4],\n",
    "    [4,5])\n",
    "\n",
    "print(a.noise_model)"
   ]
  }
 ],
 "metadata": {
  "kernelspec": {
   "display_name": "Python 3 (ipykernel)",
   "language": "python",
   "name": "python3"
  },
  "language_info": {
   "codemirror_mode": {
    "name": "ipython",
    "version": 3
   },
   "file_extension": ".py",
   "mimetype": "text/x-python",
   "name": "python",
   "nbconvert_exporter": "python",
   "pygments_lexer": "ipython3",
   "version": "3.10.11"
  }
 },
 "nbformat": 4,
 "nbformat_minor": 5
}
