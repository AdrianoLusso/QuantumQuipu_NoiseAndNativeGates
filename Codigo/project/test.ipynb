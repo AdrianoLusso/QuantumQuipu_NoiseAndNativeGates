{
 "cells": [
  {
   "cell_type": "code",
   "execution_count": 11,
   "id": "b1299774",
   "metadata": {},
   "outputs": [
    {
     "ename": "ImportError",
     "evalue": "cannot import name 'QuantumRegister' from 'qiskit' (unknown location)",
     "output_type": "error",
     "traceback": [
      "\u001b[1;31m---------------------------------------------------------------------------\u001b[0m",
      "\u001b[1;31mImportError\u001b[0m                               Traceback (most recent call last)",
      "\u001b[1;32mc:\\Users\\54299\\Desktop\\Facultad\\Trabajos\\QuantumQuipu\\Noise and native gates\\QuantumQuipu_NoiseAndNativeGates\\Codigo\\project\\test.ipynb Cell 1\u001b[0m line \u001b[0;36m1\n\u001b[1;32m----> <a href='vscode-notebook-cell:/c%3A/Users/54299/Desktop/Facultad/Trabajos/QuantumQuipu/Noise%20and%20native%20gates/QuantumQuipu_NoiseAndNativeGates/Codigo/project/test.ipynb#W0sZmlsZQ%3D%3D?line=0'>1</a>\u001b[0m \u001b[39mfrom\u001b[39;00m \u001b[39munified_noise_model\u001b[39;00m\u001b[39m.\u001b[39;00m\u001b[39mUnified_Noise_Model\u001b[39;00m \u001b[39mimport\u001b[39;00m Unified_Noise_Model\n\u001b[0;32m      <a href='vscode-notebook-cell:/c%3A/Users/54299/Desktop/Facultad/Trabajos/QuantumQuipu/Noise%20and%20native%20gates/QuantumQuipu_NoiseAndNativeGates/Codigo/project/test.ipynb#W0sZmlsZQ%3D%3D?line=1'>2</a>\u001b[0m \u001b[39mfrom\u001b[39;00m \u001b[39mqiskit\u001b[39;00m\u001b[39m.\u001b[39;00m\u001b[39mcircuit\u001b[39;00m\u001b[39m.\u001b[39;00m\u001b[39mlibrary\u001b[39;00m \u001b[39mimport\u001b[39;00m XGate\n",
      "File \u001b[1;32mc:\\Users\\54299\\Desktop\\Facultad\\Trabajos\\QuantumQuipu\\Noise and native gates\\QuantumQuipu_NoiseAndNativeGates\\Codigo\\project\\unified_noise_model\\Unified_Noise_Model.py:1\u001b[0m\n\u001b[1;32m----> 1\u001b[0m \u001b[39mfrom\u001b[39;00m \u001b[39mqiskit\u001b[39;00m \u001b[39mimport\u001b[39;00m QuantumRegister\n\u001b[0;32m      2\u001b[0m \u001b[39mfrom\u001b[39;00m \u001b[39mqiskit_aer\u001b[39;00m\u001b[39m.\u001b[39;00m\u001b[39mnoise\u001b[39;00m \u001b[39mimport\u001b[39;00m (NoiseModel,depolarizing_error,thermal_relaxation_error,pauli_error)\n\u001b[0;32m      5\u001b[0m \u001b[39mclass\u001b[39;00m \u001b[39mUnified_Noise_Model\u001b[39;00m:\n",
      "\u001b[1;31mImportError\u001b[0m: cannot import name 'QuantumRegister' from 'qiskit' (unknown location)"
     ]
    }
   ],
   "source": [
    "from unified_noise_model.Unified_Noise_Model import Unified_Noise_Model\n",
    "from qiskit.circuit.library import XGate\n"
   ]
  },
  {
   "cell_type": "code",
   "execution_count": 10,
   "id": "ea5d8ed5",
   "metadata": {},
   "outputs": [
    {
     "name": "stdout",
     "output_type": "stream",
     "text": [
      "NoiseModel:\n",
      "  Basis gates: ['cx', 'id', 'rz', 'sx']\n",
      "  Instructions with noise: ['cx', 'sx']\n",
      "  All-qubits errors: ['sx', 'cx']\n"
     ]
    }
   ],
   "source": [
    "a = Unified_Noise_Model()\n",
    "a.add_depolarizing_channel(\n",
    "0.2,\n",
    "['sx'],\n",
    "['cx']\n",
    ")\n",
    "print(a.noise_model)"
   ]
  },
  {
   "cell_type": "code",
   "execution_count": 13,
   "id": "5e789510",
   "metadata": {},
   "outputs": [
    {
     "name": "stdout",
     "output_type": "stream",
     "text": [
      "NoiseModel:\n",
      "  Basis gates: ['cx', 'id', 'rz', 'sx']\n",
      "  Instructions with noise: ['cx', 'sx']\n",
      "  Qubits with noise: [0, 1]\n",
      "  Specific qubit errors: [('sx', (0,)), ('sx', (1,)), ('cx', (0, 0)), ('cx', (0, 1)), ('cx', (1, 0)), ('cx', (1, 1))]\n"
     ]
    }
   ],
   "source": [
    "a = Unified_Noise_Model()\n",
    "a.add_relaxation_dephasing_channel(\n",
    "range(2),\n",
    "[0.4,0.4],\n",
    "[0.1,0.2],\n",
    "['sx'],\n",
    "[[0.1],[0.2]],\n",
    "['cx'],\n",
    "[0.3]\n",
    ")\n",
    "print(a.noise_model)"
   ]
  },
  {
   "cell_type": "code",
   "execution_count": 15,
   "id": "43d132fd",
   "metadata": {},
   "outputs": [
    {
     "name": "stdout",
     "output_type": "stream",
     "text": [
      "NoiseModel: Ideal\n"
     ]
    }
   ],
   "source": [
    "x_StatePreparation = XGate(label='x_StatePreparation')\n",
    "a = Unified_Noise_Model()\n",
    "a.add_spam_channel\n",
    "(\n",
    "    0.3,\n",
    "    0.5,\n",
    "    x_StatePreparation\n",
    ")\n",
    "print(a.noise_model)"
   ]
  },
  {
   "cell_type": "code",
   "execution_count": null,
   "id": "f7046413",
   "metadata": {},
   "outputs": [],
   "source": [
    "a = Unified_Noise_Model()\n",
    "a.add_depolarizing_channel(\n",
    "0.2,\n",
    "['sx'],\n",
    "['cx']\n",
    ")\n",
    "print(a.noise_model)"
   ]
  },
  {
   "cell_type": "code",
   "execution_count": 22,
   "id": "29cb220c",
   "metadata": {},
   "outputs": [
    {
     "name": "stderr",
     "output_type": "stream",
     "text": [
      "WARNING: Specific error for instruction \"sx\" on qubits (0,) overrides previously defined all-qubit error for these qubits.\n",
      "WARNING: Specific error for instruction \"cx\" on qubits (0, 0) overrides previously defined all-qubit error for these qubits.\n",
      "WARNING: Specific error for instruction \"cx\" on qubits (0, 1) overrides previously defined all-qubit error for these qubits.\n",
      "WARNING: Specific error for instruction \"sx\" on qubits (1,) overrides previously defined all-qubit error for these qubits.\n",
      "WARNING: Specific error for instruction \"cx\" on qubits (1, 0) overrides previously defined all-qubit error for these qubits.\n",
      "WARNING: Specific error for instruction \"cx\" on qubits (1, 1) overrides previously defined all-qubit error for these qubits.\n"
     ]
    },
    {
     "name": "stdout",
     "output_type": "stream",
     "text": [
      "NoiseModel:\n",
      "  Basis gates: ['cx', 'id', 'rz', 'sx']\n",
      "  Instructions with noise: ['cx', 'sx']\n",
      "  All-qubits errors: ['sx', 'cx']\n",
      "NoiseModel:\n",
      "  Basis gates: ['cx', 'id', 'rz', 'sx']\n",
      "  Instructions with noise: ['cx', 'sx']\n",
      "  Qubits with noise: [0, 1]\n",
      "  All-qubits errors: ['sx', 'cx']\n",
      "  Specific qubit errors: [('sx', (0,)), ('sx', (1,)), ('cx', (0, 0)), ('cx', (0, 1)), ('cx', (1, 0)), ('cx', (1, 1))]\n"
     ]
    }
   ],
   "source": [
    "a = Unified_Noise_Model()\n",
    "a.add_depolarizing_channel(\n",
    "0.2,\n",
    "['sx'],\n",
    "['cx']\n",
    ")\n",
    "\n",
    "print(a.noise_model)\n",
    "\n",
    "a.add_relaxation_dephasing_channel(\n",
    "range(2),\n",
    "[0.4,0.4],\n",
    "[0.1,0.2],\n",
    "['sx'],\n",
    "[[0.1],[0.2]],\n",
    "['cx'],\n",
    "[0.3]\n",
    ")\n",
    "\n",
    "print(a.noise_model)"
   ]
  },
  {
   "cell_type": "code",
   "execution_count": 19,
   "id": "783e9f9e",
   "metadata": {},
   "outputs": [
    {
     "data": {
      "text/plain": [
       "(0.3,\n",
       " 0.4,\n",
       " Instruction(name='x', num_qubits=1, num_clbits=0, params=[]),\n",
       " 0.2,\n",
       " ['x', 'y'],\n",
       " [[2, 3], [3, 4]],\n",
       " ['cx'],\n",
       " [0.4, 2],\n",
       " range(0, 2),\n",
       " [3, 4],\n",
       " [4, 5])"
      ]
     },
     "execution_count": 19,
     "metadata": {},
     "output_type": "execute_result"
    }
   ],
   "source": [
    "x_StatePreparation = XGate(label='x_StatePreparation')\n",
    "a = Unified_Noise_Model()\n",
    "a.add_all_noise_channels\n",
    "(\n",
    "    0.3,\n",
    "    0.4,\n",
    "    x_StatePreparation,\n",
    "    0.2,\n",
    "    ['x','y'],\n",
    "    [[2,3],[3,4]],\n",
    "    ['cx'],\n",
    "    [0.4,2],\n",
    "    range(2),\n",
    "    [3,4],\n",
    "    [4,5]\n",
    ")\n"
   ]
  }
 ],
 "metadata": {
  "kernelspec": {
   "display_name": "Python 3 (ipykernel)",
   "language": "python",
   "name": "python3"
  },
  "language_info": {
   "codemirror_mode": {
    "name": "ipython",
    "version": 3
   },
   "file_extension": ".py",
   "mimetype": "text/x-python",
   "name": "python",
   "nbconvert_exporter": "python",
   "pygments_lexer": "ipython3",
   "version": "3.10.9"
  }
 },
 "nbformat": 4,
 "nbformat_minor": 5
}
