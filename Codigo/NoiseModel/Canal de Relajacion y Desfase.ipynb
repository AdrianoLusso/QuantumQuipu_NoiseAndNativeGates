{
 "cells": [
  {
   "cell_type": "markdown",
   "id": "cc75da37",
   "metadata": {},
   "source": [
    "# Canal de Relajacion y Desfase"
   ]
  },
  {
   "cell_type": "code",
   "execution_count": 1,
   "id": "7577468b",
   "metadata": {},
   "outputs": [],
   "source": [
    "# Import from Qiskit Aer noise module\n",
    "from qiskit.circuit import QuantumCircuit,QuantumRegister\n",
    "from qiskit_aer.noise import (NoiseModel,  thermal_relaxation_error)"
   ]
  },
  {
   "cell_type": "code",
   "execution_count": 17,
   "id": "777ba8b1",
   "metadata": {},
   "outputs": [
    {
     "name": "stdout",
     "output_type": "stream",
     "text": [
      "NoiseModel:\n",
      "  Basis gates: ['cx', 'cz', 'id', 'rz', 'sx', 'x', 'z']\n",
      "  Instructions with noise: ['x', 'z', 'cz']\n",
      "  Qubits with noise: [0]\n",
      "  Specific qubit errors: [('x', (0,)), ('z', (0,)), ('cz', (0, 0))]\n",
      "NoiseModel:\n",
      "  Basis gates: ['cx', 'cz', 'id', 'rz', 'sx', 'x', 'z']\n",
      "  Instructions with noise: ['x', 'z', 'cz', 'cx']\n",
      "  Qubits with noise: [0]\n",
      "  Specific qubit errors: [('x', (0,)), ('z', (0,)), ('cz', (0, 0)), ('cx', (0, 0))]\n",
      "NoiseModel:\n",
      "  Basis gates: ['cx', 'cz', 'id', 'rz', 'sx', 'x', 'z']\n",
      "  Instructions with noise: ['x', 'z', 'cz', 'cx']\n",
      "  Qubits with noise: [0, 1]\n",
      "  Specific qubit errors: [('x', (0,)), ('z', (0,)), ('cz', (0, 0)), ('cz', (0, 1)), ('cx', (0, 0))]\n",
      "NoiseModel:\n",
      "  Basis gates: ['cx', 'cz', 'id', 'rz', 'sx', 'x', 'z']\n",
      "  Instructions with noise: ['x', 'z', 'cz', 'cx']\n",
      "  Qubits with noise: [0, 1]\n",
      "  Specific qubit errors: [('x', (0,)), ('z', (0,)), ('cz', (0, 0)), ('cz', (0, 1)), ('cx', (0, 0)), ('cx', (0, 1))]\n",
      "NoiseModel:\n",
      "  Basis gates: ['cx', 'cz', 'id', 'rz', 'sx', 'x', 'z']\n",
      "  Instructions with noise: ['x', 'z', 'cz', 'cx']\n",
      "  Qubits with noise: [0, 1]\n",
      "  Specific qubit errors: [('x', (0,)), ('x', (1,)), ('z', (0,)), ('z', (1,)), ('cz', (0, 0)), ('cz', (0, 1)), ('cz', (1, 0)), ('cx', (0, 0)), ('cx', (0, 1))]\n",
      "NoiseModel:\n",
      "  Basis gates: ['cx', 'cz', 'id', 'rz', 'sx', 'x', 'z']\n",
      "  Instructions with noise: ['x', 'z', 'cz', 'cx']\n",
      "  Qubits with noise: [0, 1]\n",
      "  Specific qubit errors: [('x', (0,)), ('x', (1,)), ('z', (0,)), ('z', (1,)), ('cz', (0, 0)), ('cz', (0, 1)), ('cz', (1, 0)), ('cx', (0, 0)), ('cx', (0, 1)), ('cx', (1, 0))]\n",
      "NoiseModel:\n",
      "  Basis gates: ['cx', 'cz', 'id', 'rz', 'sx', 'x', 'z']\n",
      "  Instructions with noise: ['x', 'z', 'cz', 'cx']\n",
      "  Qubits with noise: [0, 1]\n",
      "  Specific qubit errors: [('x', (0,)), ('x', (1,)), ('z', (0,)), ('z', (1,)), ('cz', (0, 0)), ('cz', (0, 1)), ('cz', (1, 0)), ('cz', (1, 1)), ('cx', (0, 0)), ('cx', (0, 1)), ('cx', (1, 0))]\n",
      "NoiseModel:\n",
      "  Basis gates: ['cx', 'cz', 'id', 'rz', 'sx', 'x', 'z']\n",
      "  Instructions with noise: ['x', 'z', 'cz', 'cx']\n",
      "  Qubits with noise: [0, 1]\n",
      "  Specific qubit errors: [('x', (0,)), ('x', (1,)), ('z', (0,)), ('z', (1,)), ('cz', (0, 0)), ('cz', (0, 1)), ('cz', (1, 0)), ('cz', (1, 1)), ('cx', (0, 0)), ('cx', (0, 1)), ('cx', (1, 0)), ('cx', (1, 1))]\n"
     ]
    }
   ],
   "source": [
    "def add_relaxation_dephasing_channel(circuit,qubits,qubitsT1,qubitsT2,singleGates,singleGatesTimes,\n",
    "                                     doubleGates=[],doubleGatesTime=0):\n",
    "\n",
    "    \"\"\"\n",
    "    Adds a relaxation and dephasing channel to a circuit.\n",
    "    \n",
    "    Args:\n",
    "        circuit (QuantumCircuit): Circuit to which add the noise channel.\n",
    "        qubits (QuantumRegister): Qubits of the circuit to which add noise.\n",
    "        qubitsT1(float[]): list of floats that represents T1 for each of the qubits. \n",
    "        qubitsT2(float[]): list of floats that represents T2 for each of the qubits. \n",
    "        singleGates(string[]): list of strings representing single gates with noise.\n",
    "        singleGatesTime(float[]): list of execution times for each single gate.\n",
    "        doubleGates(string[]):list of strings representing double gates with noise.\n",
    "        doubleGatesTime(float[]):list of execution times for each double gate.\n",
    "\n",
    " \n",
    "    Returns:\n",
    "        QuantumCircuit: circuit parameter with the relaxation and dephasing channel added.\n",
    "    \"\"\"\n",
    "    noise_model = NoiseModel()\n",
    "\n",
    "    #Para cada tupla (qubit,compuerta), se agrega error al modelo con el tiempo de la respectiva gate, y\n",
    "    #y los T1,T2 del respectivo qubit.\n",
    "    \n",
    "    for j in range(len(qubits)):\n",
    "        for i in range(len(singleGates)):\n",
    "            error = thermal_relaxation_error(qubitsT1[j],qubitsT2[j],singleGatesTimes[i])\n",
    "            noise_model.add_quantum_error(error,singleGates[i],[j])\n",
    "\n",
    "        for j2 in range(len(qubits)):\n",
    "            for i in range(len(doubleGates)):\n",
    "                error = thermal_relaxation_error(qubitsT1[j],qubitsT2[j],doubleGatesTime[i]).expand(\n",
    "                thermal_relaxation_error(qubitsT1[j2],qubitsT2[j2],doubleGatesTime[i]))\n",
    "                noise_model.add_quantum_error(error,doubleGates[i],[j,j2])\n",
    "        \n",
    "                print(noise_model)\n",
    "            \n",
    "qr = QuantumRegister(2)\n",
    "qc = QuantumCircuit()\n",
    "add_relaxation_dephasing_channel(qc,qr,[2,3],[1,2],['x','z'],[4,2],['cz','cx'],[2,3])"
   ]
  }
 ],
 "metadata": {
  "kernelspec": {
   "display_name": "Python 3 (ipykernel)",
   "language": "python",
   "name": "python3"
  },
  "language_info": {
   "codemirror_mode": {
    "name": "ipython",
    "version": 3
   },
   "file_extension": ".py",
   "mimetype": "text/x-python",
   "name": "python",
   "nbconvert_exporter": "python",
   "pygments_lexer": "ipython3",
   "version": "3.10.11"
  }
 },
 "nbformat": 4,
 "nbformat_minor": 5
}
