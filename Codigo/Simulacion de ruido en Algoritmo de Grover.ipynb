{
 "cells": [
  {
   "cell_type": "markdown",
   "id": "ee5dc8b7",
   "metadata": {},
   "source": [
    "# Creando el modelo unificado de ruido"
   ]
  },
  {
   "cell_type": "markdown",
   "id": "0e92adbb",
   "metadata": {},
   "source": [
    "## 1.   Abstract"
   ]
  },
  {
   "cell_type": "markdown",
   "id": "04d925ed",
   "metadata": {},
   "source": [
    "En esre notebook, haremos un analisis de diferentes simulaciones de ruido con tres canales diferentes:\n",
    "\n",
    "* Canal de depolarización\n",
    "* Canal SPAM\n",
    "* Canal de relajación y desfase\n",
    "\n",
    "La primera sección del notebook sera para definir los imports y demas funciones y datos globales. Luego, se hara una ejecución del algoritmo de Grover en el hardware de IBMQ $\\textit{ibm_lagos}$, cuya topología es de 7 qubits. Este hardware sera usado no solo para una ejecución real de los circuitos, sino para tomar sus datos de calibración y usarlos a lo largo de los experimentos.\n",
    "\n",
    "En la tercera sección, se haran multiples simulaciones del algoritmo de Grover, usando el simulador AER. Ademas, cada simulación se hara aplicandole un canal de de depolarización, con una probabilidad de ruido que incrementa del $0\\%$ al $30\\%$ y un step de $1\\%$. Las simulaciones del algoritmo de Grover con el canal de depolarización se haran en tres experimentos diferentes:\n",
    "\n",
    "    - La primera vez, para agregar ruido unicamente a compuertas de 1 qubit.\n",
    "    - La segunda vez, para agregar ruido unicamente a compuertas de 2 qubits.\n",
    "    - La tercera vez, para agregar ruido a ambos tipos de puerta.\n",
    "\n",
    "En la cuarta sección, se haran simulaciones de un circuito al que se le aplicara un canal de relajación y desfase. El circuito sera llamado $iterative-bell$, que consiste en $n$ iteraciones de la aplicación de compuertas $h(q0),cx(q0,q1)$. Para cada simulación, el numero incrementara. Los datos usados para este canal seran los datos de calibración de $ibm\\_lagos$.\n",
    "\n",
    "En la quinta sección se haran simulaciones sobre el canal SPAM.\n",
    "\n",
    "En la sexta sección, se probara una implementación de un $\\textbf{Modelo Unificado de Ruido}$ (notado UNM) que implemente los tres canales en conjunto. Se simularan diferentes circuitos con cada uno de los canales del UNM por separado, y luego todos en conjunto. El objetivo de esta sección es validar el correcto funcionamiento del UNM y probar la simulación de ruido cuántico de los tres canales en simultaneo. \n",
    "\n",
    "Finalmente, se hara un analisis de los resultados obtenidos de todos los experimentos."
   ]
  },
  {
   "cell_type": "markdown",
   "id": "07d26785",
   "metadata": {},
   "source": [
    "## 2.   Imports, funciones y datos globales"
   ]
  },
  {
   "cell_type": "code",
   "execution_count": 1,
   "id": "10ea0b4a",
   "metadata": {
    "scrolled": true
   },
   "outputs": [
    {
     "ename": "ModuleNotFoundError",
     "evalue": "No module named 'unified_noise_model'",
     "output_type": "error",
     "traceback": [
      "\u001b[1;31m---------------------------------------------------------------------------\u001b[0m",
      "\u001b[1;31mModuleNotFoundError\u001b[0m                       Traceback (most recent call last)",
      "Cell \u001b[1;32mIn[1], line 17\u001b[0m\n\u001b[0;32m     14\u001b[0m \u001b[38;5;28;01mfrom\u001b[39;00m  \u001b[38;5;21;01mqiskit_ibm_provider\u001b[39;00m \u001b[38;5;28;01mimport\u001b[39;00m IBMProvider\n\u001b[0;32m     16\u001b[0m \u001b[38;5;66;03m# Importa el UNM\u001b[39;00m\n\u001b[1;32m---> 17\u001b[0m \u001b[38;5;28;01mfrom\u001b[39;00m \u001b[38;5;21;01munified_noise_model\u001b[39;00m\u001b[38;5;21;01m.\u001b[39;00m\u001b[38;5;21;01mUnified_Noise_Model\u001b[39;00m \u001b[38;5;28;01mimport\u001b[39;00m Unified_Noise_Model\n\u001b[0;32m     18\u001b[0m \u001b[38;5;28;01mfrom\u001b[39;00m \u001b[38;5;21;01mqiskit\u001b[39;00m\u001b[38;5;21;01m.\u001b[39;00m\u001b[38;5;21;01mcircuit\u001b[39;00m\u001b[38;5;21;01m.\u001b[39;00m\u001b[38;5;21;01mlibrary\u001b[39;00m \u001b[38;5;28;01mimport\u001b[39;00m XGate\n",
      "\u001b[1;31mModuleNotFoundError\u001b[0m: No module named 'unified_noise_model'"
     ]
    }
   ],
   "source": [
    "import numpy as np\n",
    "from qiskit import QuantumCircuit,QuantumRegister, transpile\n",
    "from qiskit_aer import AerSimulator\n",
    "from qiskit.tools.visualization import plot_histogram\n",
    "from qiskit.circuit.library import GroverOperator, MCMT, ZGate,XGate,StatePreparation\n",
    "import math\n",
    "import matplotlib.pyplot as plt\n",
    "\n",
    "# Importar desde el modulo de ruido Qiskit Aer\n",
    "from qiskit_aer.noise import (NoiseModel, QuantumError, ReadoutError,\n",
    "    pauli_error, depolarizing_error, thermal_relaxation_error)\n",
    "\n",
    "# Importar para correr en hardware de IBM Quantum\n",
    "from  qiskit_ibm_provider import IBMProvider\n",
    "\n",
    "# Importa el UNM\n",
    "from unified_noise_model.Unified_Noise_Model import Unified_Noise_Model\n",
    "from qiskit.circuit.library import XGate"
   ]
  },
  {
   "cell_type": "code",
   "execution_count": 22,
   "id": "b74c4b29",
   "metadata": {},
   "outputs": [],
   "source": [
    "def grover_oracle(marked_states):\n",
    "    \"\"\"Build a Grover oracle for multiple marked states\n",
    "\n",
    "    Here we assume all input marked states have the same number of bits\n",
    "\n",
    "    Parameters:\n",
    "        marked_states (str or list): Marked states of oracle\n",
    "\n",
    "    Returns:\n",
    "        QuantumCircuit: Quantum circuit representing Grover oracle\n",
    "    \"\"\"\n",
    "    if not isinstance(marked_states, list):\n",
    "        marked_states = [marked_states]\n",
    "    # Compute the number of qubits in circuit\n",
    "    num_qubits = len(marked_states[0])\n",
    "\n",
    "    qc = QuantumCircuit(num_qubits)\n",
    "    # Mark each target state in the input list\n",
    "    for target in marked_states:\n",
    "        # Flip target bit-string to match Qiskit bit-ordering\n",
    "        rev_target = target[::-1]\n",
    "        # Find the indices of all the '0' elements in bit-string\n",
    "        zero_inds = [ind for ind in range(num_qubits) if rev_target.startswith(\"0\", ind)]\n",
    "        # Add a multi-controlled Z-gate with pre- and post-applied X-gates (open-controls)\n",
    "        # where the target bit-string has a '0' entry\n",
    "        qc.x(zero_inds)\n",
    "        qc.compose(MCMT(ZGate(), num_qubits - 1, 1), inplace=True)\n",
    "        qc.x(zero_inds)\n",
    "    return qc"
   ]
  },
  {
   "cell_type": "code",
   "execution_count": 23,
   "id": "92aa4747",
   "metadata": {},
   "outputs": [],
   "source": [
    "#---VARIABLES GLOBALES PARA CIRCUITO DE GROVER---\n",
    "marked_states=['010']\n",
    "nroQubits=3\n",
    "shots=10000\n",
    "errorProbabilities = np.arange(0,0.31,0.01)\n",
    "\n",
    "#Se crea el operador de grover: oraculo + expansion de estado\n",
    "oracle = grover_oracle(marked_states)\n",
    "groverOp = GroverOperator(oracle)\n",
    "\n",
    "#Se calcula el numero optimo de iteraciones\n",
    "optimal_num_iterations = math.floor(\n",
    "    math.pi / 4 * math.sqrt(2**groverOp.num_qubits / len(marked_states))\n",
    ")"
   ]
  },
  {
   "cell_type": "code",
   "execution_count": 24,
   "id": "f9c345a5",
   "metadata": {
    "run_control": {
     "marked": false
    }
   },
   "outputs": [],
   "source": [
    "#crea ruido de depolarizacion\n",
    "def add_depolarizing_error(noise_model,prob):\n",
    "    noise_model = add_one_qubit_depolarizing_error(noise_model,prob)\n",
    "    noise_model = add_two_qubits_depolarizing_error(noise_model,prob)\n",
    "    return noise_model\n",
    "\n",
    "#crea ruido de depolarizacion en compuertas 1 qubit\n",
    "def add_one_qubit_depolarizing_error(noise_model,prob):\n",
    "    error = depolarizing_error(prob, 1)\n",
    "    noise_model.add_all_qubit_quantum_error(error,one_qubit_gates)\n",
    "    return noise_model\n",
    "\n",
    "#crea ruido de depolarizacion en compuertas 2 qubits \n",
    "def add_two_qubits_depolarizing_error(noise_model,prob):\n",
    "    error = depolarizing_error(prob, 2)\n",
    "    noise_model.add_all_qubit_quantum_error(error, two_qubits_gates)\n",
    "    return noise_model\n",
    "\n",
    "#PARA TESTING\n",
    "#noise_model = NoiseModel()\n",
    "#print(add_one_qubit_depolarizing_error(noise_model,0.1))\n",
    "#print(add_two_qubits_depolarizing_error(noise_model,0.3))\n",
    "#print(add_depolarizing_error(noise_model,0.2))"
   ]
  },
  {
   "cell_type": "code",
   "execution_count": 25,
   "id": "140a2422",
   "metadata": {},
   "outputs": [],
   "source": [
    "def add_relaxation_dephasing_channel(qubits,qubitsT1,qubitsT2,singleGates,singleGatesTimes,\n",
    "                                     doubleGates=[],doubleGatesTime=0):\n",
    "\n",
    "    noise_model = NoiseModel()\n",
    "\n",
    "    #Para cada tupla (qubit,compuerta), se agrega error al modelo con el tiempo de la respectiva gate, y\n",
    "    #y los T1,T2 del respectivo qubit.\n",
    "    \n",
    "    for j in qubits:\n",
    "        for i in range(len(singleGates)):\n",
    "            error = thermal_relaxation_error(qubitsT1[j],qubitsT2[j],singleGatesTimes[j][i])\n",
    "            noise_model.add_quantum_error(error,singleGates[i],[j])\n",
    "\n",
    "        for j2 in qubits:\n",
    "            for i in range(len(doubleGates)):\n",
    "                error = thermal_relaxation_error(qubitsT1[j],qubitsT2[j],doubleGatesTime[i]).expand(\n",
    "                thermal_relaxation_error(qubitsT1[j2],qubitsT2[j2],doubleGatesTime[i]))\n",
    "                noise_model.add_quantum_error(error,doubleGates[i],[j,j2])\n",
    "        \n",
    "    return noise_model\n",
    "  \n",
    "#PARA TESTING\n",
    "#noise_model = add_relaxation_dephasing_channel([0,1],[2,3],[1,2],['x','z'],[[4,2],[3,2]],['cz','cx'],[2,3])\n",
    "#print(noise_model)"
   ]
  },
  {
   "cell_type": "code",
   "execution_count": 26,
   "id": "b593703c",
   "metadata": {},
   "outputs": [],
   "source": [
    "def add_spam_channel(statePreparation_error_prob=-1,measurement_error_prob=-1,statePreparation_error_gate=None):\n",
    "    '''\n",
    "    Recibe por parametros la probabilidad de error de medicion, de preparacion de esstado y la compuerta que representa\n",
    "    el error de preparacion de estado en el circuito. Esta compuerta debe ser una XGate() con un label asignado.\n",
    "    '''\n",
    "    noise_model = NoiseModel()\n",
    "    \n",
    "    if(statePreparation_error_prob >=0):\n",
    "        #print(statePreparation_error_gate.label)\n",
    "        statePreparation_error = pauli_error([('I',statePreparation_error_prob),('X',1-statePreparation_error_prob)])\n",
    "        noise_model.add_all_qubit_quantum_error(statePreparation_error,statePreparation_error_gate.label)\n",
    "        noise_model.add_basis_gates(['x'])\n",
    "\n",
    "    \n",
    "    if(measurement_error_prob >=0):\n",
    "        measurement_error = pauli_error([('X',measurement_error_prob),('I',1-measurement_error_prob)])\n",
    "        noise_model.add_all_qubit_quantum_error(measurement_error,\"measure\")\n",
    "    \n",
    "    print(noise_model)\n",
    "    return noise_model\n",
    " \n",
    "#TESTING\n",
    "#add_spam_channel(0.2,0.5,XGate(label='prueba'))"
   ]
  },
  {
   "cell_type": "code",
   "execution_count": 27,
   "id": "48dee698",
   "metadata": {},
   "outputs": [],
   "source": [
    "token='825a8b2e6fb861f63088f866e59357e49447b4b9b24ff6136e56dcc28f2fb0cedda6c2976b9e2aef48129a80864265494be7f8a7aae5b9ebd6654a7d80d9b5cb'"
   ]
  },
  {
   "cell_type": "code",
   "execution_count": 28,
   "id": "2ceb34c8",
   "metadata": {},
   "outputs": [
    {
     "name": "stdout",
     "output_type": "stream",
     "text": [
      "[<IBMBackend('ibmq_qasm_simulator')>, <IBMBackend('simulator_extended_stabilizer')>, <IBMBackend('simulator_mps')>, <IBMBackend('simulator_statevector')>, <IBMBackend('simulator_stabilizer')>, <IBMBackend('ibm_brisbane')>, <IBMBackend('ibm_kyoto')>]\n"
     ]
    }
   ],
   "source": [
    "IBMProvider.save_account(token= token, overwrite=True)\n",
    "provider = IBMProvider()\n",
    "print(provider.backends())"
   ]
  },
  {
   "cell_type": "code",
   "execution_count": 29,
   "id": "8f55d388",
   "metadata": {},
   "outputs": [
    {
     "ename": "QiskitBackendNotFoundError",
     "evalue": "'No backend matches the criteria'",
     "output_type": "error",
     "traceback": [
      "\u001b[1;31m---------------------------------------------------------------------------\u001b[0m",
      "\u001b[1;31mQiskitBackendNotFoundError\u001b[0m                Traceback (most recent call last)",
      "Cell \u001b[1;32mIn[29], line 1\u001b[0m\n\u001b[1;32m----> 1\u001b[0m backend\u001b[38;5;241m=\u001b[39m \u001b[43mprovider\u001b[49m\u001b[38;5;241;43m.\u001b[39;49m\u001b[43mget_backend\u001b[49m\u001b[43m(\u001b[49m\u001b[38;5;124;43m'\u001b[39;49m\u001b[38;5;124;43mibm_lagos\u001b[39;49m\u001b[38;5;124;43m'\u001b[39;49m\u001b[43m)\u001b[49m\n\u001b[0;32m      2\u001b[0m conf \u001b[38;5;241m=\u001b[39m backend\u001b[38;5;241m.\u001b[39mconfiguration()\n\u001b[0;32m      3\u001b[0m props \u001b[38;5;241m=\u001b[39m backend\u001b[38;5;241m.\u001b[39mproperties()\n",
      "File \u001b[1;32m~\\anaconda3\\envs\\Womanium2023\\lib\\site-packages\\qiskit_ibm_provider\\ibm_provider.py:660\u001b[0m, in \u001b[0;36mIBMProvider.get_backend\u001b[1;34m(self, name, instance, **kwargs)\u001b[0m\n\u001b[0;32m    643\u001b[0m \u001b[38;5;250m\u001b[39m\u001b[38;5;124;03m\"\"\"Return a single backend matching the specified filtering.\u001b[39;00m\n\u001b[0;32m    644\u001b[0m \n\u001b[0;32m    645\u001b[0m \u001b[38;5;124;03mArgs:\u001b[39;00m\n\u001b[1;32m   (...)\u001b[0m\n\u001b[0;32m    657\u001b[0m \u001b[38;5;124;03m        `project` are specified.\u001b[39;00m\n\u001b[0;32m    658\u001b[0m \u001b[38;5;124;03m\"\"\"\u001b[39;00m\n\u001b[0;32m    659\u001b[0m \u001b[38;5;66;03m# pylint: disable=arguments-differ\u001b[39;00m\n\u001b[1;32m--> 660\u001b[0m backends \u001b[38;5;241m=\u001b[39m \u001b[38;5;28mself\u001b[39m\u001b[38;5;241m.\u001b[39mbackends(name, instance\u001b[38;5;241m=\u001b[39minstance, \u001b[38;5;241m*\u001b[39m\u001b[38;5;241m*\u001b[39mkwargs)\n\u001b[0;32m    661\u001b[0m \u001b[38;5;28;01mif\u001b[39;00m \u001b[38;5;28mlen\u001b[39m(backends) \u001b[38;5;241m>\u001b[39m \u001b[38;5;241m1\u001b[39m:\n\u001b[0;32m    662\u001b[0m     \u001b[38;5;28;01mraise\u001b[39;00m QiskitBackendNotFoundError(\n\u001b[0;32m    663\u001b[0m         \u001b[38;5;124m\"\u001b[39m\u001b[38;5;124mMore than one backend matches the criteria\u001b[39m\u001b[38;5;124m\"\u001b[39m\n\u001b[0;32m    664\u001b[0m     )\n",
      "File \u001b[1;32m~\\anaconda3\\envs\\Womanium2023\\lib\\site-packages\\qiskit_ibm_provider\\ibm_provider.py:561\u001b[0m, in \u001b[0;36mIBMProvider.backends\u001b[1;34m(self, name, filters, min_num_qubits, instance, **kwargs)\u001b[0m\n\u001b[0;32m    531\u001b[0m \u001b[38;5;250m\u001b[39m\u001b[38;5;124;03m\"\"\"Return all backends accessible via this account, subject to optional filtering.\u001b[39;00m\n\u001b[0;32m    532\u001b[0m \n\u001b[0;32m    533\u001b[0m \u001b[38;5;124;03mArgs:\u001b[39;00m\n\u001b[1;32m   (...)\u001b[0m\n\u001b[0;32m    558\u001b[0m \u001b[38;5;124;03m    The list of available backends that match the filter.\u001b[39;00m\n\u001b[0;32m    559\u001b[0m \u001b[38;5;124;03m\"\"\"\u001b[39;00m\n\u001b[0;32m    560\u001b[0m \u001b[38;5;66;03m# pylint: disable=arguments-differ\u001b[39;00m\n\u001b[1;32m--> 561\u001b[0m \u001b[38;5;28;01mreturn\u001b[39;00m \u001b[38;5;28mself\u001b[39m\u001b[38;5;241m.\u001b[39m_backend\u001b[38;5;241m.\u001b[39mbackends(\n\u001b[0;32m    562\u001b[0m     name\u001b[38;5;241m=\u001b[39mname,\n\u001b[0;32m    563\u001b[0m     filters\u001b[38;5;241m=\u001b[39mfilters,\n\u001b[0;32m    564\u001b[0m     min_num_qubits\u001b[38;5;241m=\u001b[39mmin_num_qubits,\n\u001b[0;32m    565\u001b[0m     instance\u001b[38;5;241m=\u001b[39minstance \u001b[38;5;129;01mor\u001b[39;00m \u001b[38;5;28mself\u001b[39m\u001b[38;5;241m.\u001b[39m_account\u001b[38;5;241m.\u001b[39minstance,\n\u001b[0;32m    566\u001b[0m     \u001b[38;5;241m*\u001b[39m\u001b[38;5;241m*\u001b[39mkwargs,\n\u001b[0;32m    567\u001b[0m )\n",
      "File \u001b[1;32m~\\anaconda3\\envs\\Womanium2023\\lib\\site-packages\\qiskit_ibm_provider\\ibm_backend_service.py:166\u001b[0m, in \u001b[0;36mIBMBackendService.backends\u001b[1;34m(self, name, filters, min_num_qubits, instance, dynamic_circuits, **kwargs)\u001b[0m\n\u001b[0;32m    164\u001b[0m \u001b[38;5;28;01mif\u001b[39;00m name:\n\u001b[0;32m    165\u001b[0m     \u001b[38;5;28;01mif\u001b[39;00m name \u001b[38;5;129;01mnot\u001b[39;00m \u001b[38;5;129;01min\u001b[39;00m \u001b[38;5;28mself\u001b[39m\u001b[38;5;241m.\u001b[39m_backends:\n\u001b[1;32m--> 166\u001b[0m         \u001b[38;5;28;01mraise\u001b[39;00m QiskitBackendNotFoundError(\u001b[38;5;124m\"\u001b[39m\u001b[38;5;124mNo backend matches the criteria\u001b[39m\u001b[38;5;124m\"\u001b[39m)\n\u001b[0;32m    167\u001b[0m     \u001b[38;5;28;01mif\u001b[39;00m \u001b[38;5;129;01mnot\u001b[39;00m \u001b[38;5;28mself\u001b[39m\u001b[38;5;241m.\u001b[39m_backends[name] \u001b[38;5;129;01mor\u001b[39;00m instance \u001b[38;5;241m!=\u001b[39m \u001b[38;5;28mself\u001b[39m\u001b[38;5;241m.\u001b[39m_backends[name]\u001b[38;5;241m.\u001b[39m_instance:\n\u001b[0;32m    168\u001b[0m         \u001b[38;5;28mself\u001b[39m\u001b[38;5;241m.\u001b[39m_set_backend_config(name)\n",
      "\u001b[1;31mQiskitBackendNotFoundError\u001b[0m: 'No backend matches the criteria'"
     ]
    }
   ],
   "source": [
    "backend= provider.get_backend('ibm_lagos')\n",
    "conf = backend.configuration()\n",
    "props = backend.properties()"
   ]
  },
  {
   "cell_type": "code",
   "execution_count": 11,
   "id": "9de722b1",
   "metadata": {},
   "outputs": [],
   "source": [
    "#---OBTENER PARAMETROS DEL BACKEND---\n",
    "\n",
    "qubits = range(conf.n_qubits)\n",
    "t1=[]\n",
    "t2=[]\n",
    "#Se ven las basis gates del backend para despues filtrarlas segun si son single o double\n",
    "basis_gates = conf.basis_gates\n",
    "print('basis gates:',basis_gates,'\\n')\n",
    "#Se toman las single gates\n",
    "one_qubit_gates = conf.basis_gates[2:5]\n",
    "one_qubit_gates_times=[]\n",
    "#Se toman las double gates\n",
    "two_qubits_gates = conf.basis_gates[0:1]\n",
    "#VALOR FIXED TEMPORAL,VER DESPUES CON VICTOR\n",
    "#TEMA TOPOLOGICO DEL HARDWARE\n",
    "two_qubits_gates_times=[props.gate_length('cx',[0,1])]\n",
    "\n",
    "#para cada qubit se obtiene:\n",
    "    #su T1\n",
    "    #su T2\n",
    "    # para cada single gate, se obtiene el tiempo de gate.\n",
    "for i in qubits:\n",
    "    t1.append(props.t1(i))\n",
    "    t2.append(props.t2(i))\n",
    "    \n",
    "    current_qubit_gates_times = []\n",
    "    for j in one_qubit_gates:\n",
    "        current_qubit_gates_times.append(props.gate_length(j,i))\n",
    "    one_qubit_gates_times.append(current_qubit_gates_times)\n",
    "\n",
    "#Se imprime por pantalla los datos obtenidos\n",
    "print('t1:',t1,'\\n')\n",
    "print('t2:',t2,'\\n')\n",
    "print()\n",
    "print('single basis gates:',one_qubit_gates,'\\n')\n",
    "print('single basis gates times:',one_qubit_gates_times,'\\n')\n",
    "print('double basis gates:',two_qubits_gates,'\\n')\n",
    "print('double basis gates times:',two_qubits_gates_times,'\\n')\n",
    "\n",
    "print('------------------------------------------------------------------------------------------------------------------------')\n",
    "\n",
    "#---CREAR MODELO DE RUIDO---\n",
    "noise_model = add_relaxation_dephasing_channel(qubits,t1,t2,one_qubit_gates,one_qubit_gates_times,two_qubits_gates,\n",
    "                                               two_qubits_gates_times)\n",
    "print(noise_model)"
   ]
  },
  {
   "cell_type": "markdown",
   "id": "a3741844",
   "metadata": {},
   "source": [
    "## 3.   Ejecución del Algoritmo de Grover en hardware real - ibm_lagos"
   ]
  },
  {
   "cell_type": "markdown",
   "id": "c34f677c",
   "metadata": {},
   "source": [
    "Esta ejecución se realizo con los siguientes parametros:\n",
    "\n",
    "* $010$ como estado marcado\n",
    "* circuito de tres qubits\n",
    "* 10000 shots del circuito.\n"
   ]
  },
  {
   "cell_type": "code",
   "execution_count": null,
   "id": "8d99ae69",
   "metadata": {
    "hide_input": true
   },
   "outputs": [],
   "source": [
    "from PIL import Image\n",
    "img = Image.open(r'C:\\Users\\54299\\Desktop\\Facultad\\Trabajos\\QuantumQuipu\\Noise and native gates\\QuantumQuipu_NoiseAndNativeGates\\Imagenes\\ibm_lagos_result.png')\n",
    "display(img)"
   ]
  },
  {
   "cell_type": "markdown",
   "id": "d64279c2",
   "metadata": {
    "hide_input": true
   },
   "source": [
    "## 4.   Simulaciones del canal de depolarización"
   ]
  },
  {
   "cell_type": "markdown",
   "id": "b620bb3b",
   "metadata": {},
   "source": [
    "El canal de depolarización se probara sobre un algoritmo de Grover con los siguientes parametros:\n",
    "* $010$ como estado marcado\n",
    "* circuito de tres qubits\n",
    "* 10000 shots del circuito.\n",
    "\n",
    "En cada experimento, se ira aumentado la probabilidad de error de las simulaciones desde $0\\%$ al $30\\%$ con un step de $1\\%$. Ademas, se mostraran sus respectivos gráficos con los resultados y un contador que muestra la cantidad de compuertas ruidosas del algoritmo ejecutado."
   ]
  },
  {
   "cell_type": "markdown",
   "id": "7314b3b1",
   "metadata": {},
   "source": [
    "### 4.1   Errores de depolarizacion en compuertas de 1 qubit"
   ]
  },
  {
   "cell_type": "code",
   "execution_count": 12,
   "id": "6a3a70d7",
   "metadata": {
    "hide_input": false,
    "scrolled": true
   },
   "outputs": [],
   "source": [
    "results = []\n",
    "for i in errorProbabilities:\n",
    "    #ALGORITMO\n",
    "    print('PROBABILIDAD DE ERROR: ',i)\n",
    "     \n",
    "    noiseModel = add_one_qubit_depolarizing_error(NoiseModel(),i)\n",
    "    print('noise model: ',noiseModel)\n",
    "        \n",
    "    qr = QuantumRegister(nroQubits)\n",
    "    qc = QuantumCircuit(qr)\n",
    "    qc.h(qr)\n",
    "    qc.compose(groverOp.decompose(), inplace=True)\n",
    "    qc.measure_all()\n",
    "    #display(qc.draw(\"mpl\"))\n",
    "    #display(qc.data)\n",
    "    \n",
    "    #EJECUCION\n",
    "    sim_noise = AerSimulator(noise_model=noiseModel)\n",
    "    circ_tnoise = transpile(qc, sim_noise,basis_gates=basis_gates)\n",
    "    display(circ_tnoise.draw('mpl'))\n",
    "    result_bit_flip = sim_noise.run(circ_tnoise,shots=shots).result()\n",
    "    counts_bit_flip = result_bit_flip.get_counts(0)\n",
    "    display(plot_histogram(counts_bit_flip))\n",
    "        \n",
    "    results.append(counts_bit_flip)"
   ]
  },
  {
   "cell_type": "code",
   "execution_count": 13,
   "id": "9c2d084e",
   "metadata": {
    "hide_input": false
   },
   "outputs": [],
   "source": [
    "#CALCULO DE PROBABILIDADES DE EXITO PARA CADA EXPERIMENTO\n",
    "successCounts1=[]\n",
    "for i in results:\n",
    "    currentCount = 0\n",
    "    for j in marked_states:\n",
    "        currentCount = currentCount + i[j]\n",
    "    successCounts1.append(currentCount/shots)\n",
    "#print(successCounts1)"
   ]
  },
  {
   "cell_type": "code",
   "execution_count": 14,
   "id": "53eac142",
   "metadata": {
    "hide_input": false
   },
   "outputs": [],
   "source": [
    "# Crear el gráfico\n",
    "plt.plot(errorProbabilities, successCounts1, marker='o', linestyle='-')\n",
    "\n",
    "# Etiquetas de los ejes\n",
    "plt.xlabel('Probabilidad de error')\n",
    "plt.ylabel('Probabilidad de exito')\n",
    "\n",
    "# Título del gráfico\n",
    "plt.title('Probabilidad de exito con errores de Pauli en compuertas de 1 qubit')\n",
    "\n",
    "# Mostrar el gráfico\n",
    "plt.grid(True)\n",
    "plt.show()"
   ]
  },
  {
   "cell_type": "code",
   "execution_count": null,
   "id": "a641464c",
   "metadata": {
    "hide_input": true
   },
   "outputs": [],
   "source": [
    "#CALCULO DE CANTIDAD DE COMPUERTAS UTILIZADAS\n",
    "#display(circ_tnoise.count_ops())\n",
    "ops = circ_tnoise.count_ops()\n",
    "single_qubit_ops = ops['rz']+ops['sx']\n",
    "print('-----------------------------------------------------------')\n",
    "print('Cantidad de compuertas de 1 qubit: ',single_qubit_ops)\n",
    "print('-----------------------------------------------------------')"
   ]
  },
  {
   "cell_type": "markdown",
   "id": "c65b7b1e",
   "metadata": {
    "hide_input": false
   },
   "source": [
    "### 4.2   Errores de depolarizacion en compuertas de 2 qubits"
   ]
  },
  {
   "cell_type": "code",
   "execution_count": 15,
   "id": "178f538a",
   "metadata": {
    "hide_input": false,
    "scrolled": true
   },
   "outputs": [],
   "source": [
    "results = []\n",
    "for i in errorProbabilities:\n",
    "    #ALGORITMO\n",
    "    print('PROBABILIDAD DE ERROR: ',i)\n",
    "    \n",
    "    noiseModel = add_two_qubits_depolarizing_error(NoiseModel(),i)\n",
    "    basisGates=noiseModel.basis_gates\n",
    "    print('noise model: ',noiseModel)\n",
    "        \n",
    "    qr = QuantumRegister(nroQubits)\n",
    "    qc = QuantumCircuit(qr)\n",
    "    qc.h(qr)\n",
    "    qc.compose(groverOp.decompose(), inplace=True)\n",
    "    qc.measure_all()\n",
    "    #display(qc.draw(\"mpl\"))\n",
    "    #display(qc.data)\n",
    "    \n",
    "    #EJECUCION\n",
    "    sim_noise = AerSimulator(noise_model=noiseModel)\n",
    "    circ_tnoise = transpile(qc, sim_noise,basis_gates=basis_gates)\n",
    "    display(circ_tnoise.draw('mpl'))\n",
    "    result_bit_flip = sim_noise.run(circ_tnoise,shots=shots).result()\n",
    "    counts_bit_flip = result_bit_flip.get_counts(0)\n",
    "    display(plot_histogram(counts_bit_flip))\n",
    "        \n",
    "    results.append(counts_bit_flip)"
   ]
  },
  {
   "cell_type": "code",
   "execution_count": 16,
   "id": "0053e9cb",
   "metadata": {
    "hide_input": false
   },
   "outputs": [],
   "source": [
    "#CALCULO DE PROBABILIDADES DE EXITO PARA CADA EXPERIMENTO\n",
    "successCounts2=[]\n",
    "for i in results:\n",
    "    currentCount = 0\n",
    "    for j in marked_states:\n",
    "        currentCount = currentCount + i[j]\n",
    "    successCounts2.append(currentCount/shots)\n",
    "#print(successCounts2)"
   ]
  },
  {
   "cell_type": "code",
   "execution_count": 17,
   "id": "1694f3ce",
   "metadata": {
    "hide_input": false
   },
   "outputs": [],
   "source": [
    "# Crear el gráfico\n",
    "plt.plot(errorProbabilities, successCounts2, marker='o', linestyle='-')\n",
    "\n",
    "# Etiquetas de los ejes\n",
    "plt.xlabel('Probabilidad de error')\n",
    "plt.ylabel('Probabilidad de exito')\n",
    "\n",
    "# Título del gráfico\n",
    "plt.title('Probabilidad de exito con errores de Pauli en compuertas de 2 qubits')\n",
    "\n",
    "# Mostrar el gráfico\n",
    "plt.grid(True)\n",
    "plt.show()"
   ]
  },
  {
   "cell_type": "code",
   "execution_count": 18,
   "id": "12b40dfc",
   "metadata": {
    "hide_input": false
   },
   "outputs": [],
   "source": [
    "#CALCULO DE CANTIDAD DE COMPUERTAS UTILIZADAS\n",
    "#display(circ_tnoise.count_ops())\n",
    "ops = circ_tnoise.count_ops()\n",
    "two_qubits_ops = ops['cx']\n",
    "print('-----------------------------------------------------------')\n",
    "print('Cantidad de compuertas de 2 qubit: ',two_qubits_ops)\n",
    "print('-----------------------------------------------------------')"
   ]
  },
  {
   "cell_type": "markdown",
   "id": "ae2ca4ca",
   "metadata": {},
   "source": [
    "### 4.3 Errores de depolarizacion en todas las compuertas"
   ]
  },
  {
   "cell_type": "code",
   "execution_count": 19,
   "id": "c96fb8cb",
   "metadata": {
    "hide_input": false
   },
   "outputs": [],
   "source": [
    "results = []\n",
    "for i in errorProbabilities:\n",
    "    #ALGORITMO\n",
    "    print('PROBABILIDAD DE ERROR: ',i)\n",
    "    \n",
    "    noiseModel = add_depolarizing_error(NoiseModel(),i)\n",
    "    basisGates=noiseModel.basis_gates\n",
    "    print('noise model: ',noiseModel)\n",
    "        \n",
    "    qr = QuantumRegister(nroQubits)\n",
    "    qc = QuantumCircuit(qr)\n",
    "    qc.h(qr)\n",
    "    qc.compose(groverOp.decompose(), inplace=True)\n",
    "    qc.measure_all()\n",
    "    #display(qc.draw(\"mpl\"))\n",
    "    #display(qc.data)\n",
    "    \n",
    "    #EJECUCION\n",
    "    sim_noise = AerSimulator(noise_model=noiseModel)\n",
    "    circ_tnoise = transpile(qc, sim_noise,basis_gates=basis_gates)\n",
    "    display(circ_tnoise.draw('mpl'))\n",
    "    result_bit_flip = sim_noise.run(circ_tnoise,shots=shots).result()\n",
    "    counts_bit_flip = result_bit_flip.get_counts(0)\n",
    "    display(plot_histogram(counts_bit_flip))\n",
    "        \n",
    "    results.append(counts_bit_flip)"
   ]
  },
  {
   "cell_type": "code",
   "execution_count": 20,
   "id": "821b290d",
   "metadata": {
    "hide_input": false
   },
   "outputs": [],
   "source": [
    "#CALCULO DE PROBABILIDADES DE EXITO PARA CADA EXPERIMENTO\n",
    "successCounts3=[]\n",
    "for i in results:\n",
    "    currentCount = 0\n",
    "    for j in marked_states:\n",
    "        currentCount = currentCount + i[j]\n",
    "    successCounts3.append(currentCount/shots)\n",
    "#print(successCounts3)"
   ]
  },
  {
   "cell_type": "code",
   "execution_count": null,
   "id": "50d51e39",
   "metadata": {
    "hide_input": false
   },
   "outputs": [],
   "source": [
    "# Crear el gráfico\n",
    "plt.plot(errorProbabilities[:16], successCounts3[:16], marker='o', linestyle='-')\n",
    "\n",
    "# Etiquetas de los ejes\n",
    "plt.xlabel('Probabilidad de error')\n",
    "plt.ylabel('Probabilidad de exito')\n",
    "\n",
    "# Título del gráfico\n",
    "plt.title('Probabilidad de exito con errores de Pauli en todas las compuertas')\n",
    "\n",
    "# Mostrar el gráfico\n",
    "plt.grid(True)\n",
    "plt.show()"
   ]
  },
  {
   "cell_type": "code",
   "execution_count": null,
   "id": "d8f5ab1f",
   "metadata": {
    "hide_input": false
   },
   "outputs": [],
   "source": [
    "#CALCULO DE CANTIDAD DE COMPUERTAS UTILIZADAS\n",
    "#display(circ_tnoise.count_ops())\n",
    "ops = circ_tnoise.count_ops()\n",
    "ops = ops['cx']+ops['rz']+ops['sx']\n",
    "print('-----------------------------------------------------------')\n",
    "print('Cantidad de compuertas de 2 qubit: ',ops)\n",
    "print('-----------------------------------------------------------')"
   ]
  },
  {
   "cell_type": "markdown",
   "id": "ef19e03e",
   "metadata": {},
   "source": [
    "## 5. Errores del canal de  relajación y desfase"
   ]
  },
  {
   "cell_type": "markdown",
   "id": "1ba1551c",
   "metadata": {},
   "source": [
    "Para este canal, no tenemos un parametro de probabilidad de error como si lo tenemos para el canal de depolarización. Los parametros a modificar para ver como afecta este canal son:\n",
    "\n",
    "1. Profundidad del circuito\n",
    "2. Tiempo de ejecución de las compuertas, para cada qubit\n",
    "3. t1 y t2, para cada qubit\n",
    "\n",
    "Empezaremos solo probando modificar la profundidad del circuito utilizando un iterative-bell. Este algoritmo genera $n$ repeticiones de una compuerta $H$ y una compuerta $CX$.En un futuro, haremos pruebas mas complejas con el resto de parametros."
   ]
  },
  {
   "cell_type": "code",
   "execution_count": null,
   "id": "73c57187",
   "metadata": {
    "run_control": {
     "marked": false
    }
   },
   "outputs": [],
   "source": [
    "#AGREGAR AL CIRCUITO UN SWAP TEST PARA VER LA SIMILITUD\n",
    "results = []\n",
    "for n in range(0,51):\n",
    "    #ALGORITMO\n",
    "    noise_model = add_relaxation_dephasing_channel(qubits,t1,t2,one_qubit_gates,one_qubit_gates_times,two_qubits_gates,\n",
    "                                                   two_qubits_gates_times)\n",
    "\n",
    "    qc = QuantumCircuit(2,2)\n",
    "    qc.h(0)\n",
    "    qc.cx(0,1)\n",
    "    for i in range(n):\n",
    "        qc.x(0)\n",
    "        qc.x(0)\n",
    "        qc.x(1)\n",
    "        qc.x(1)\n",
    "    qc.measure(range(2),range(2))\n",
    "    \n",
    "    \n",
    "    #EJECUCION\n",
    "    simulator = AerSimulator()\n",
    "    noisy_simulator = AerSimulator(noise_model=noise_model)\n",
    "\n",
    "    qc_transpiled = transpile(qc,simulator,basis_gates=conf.basis_gates,optimization_level=0)\n",
    "    noisy_qc_transpiled = transpile(qc,noisy_simulator,basis_gates=basis_gates,optimization_level=0)\n",
    "    print('N = ',n)\n",
    "    print('Iterative-bell descompuesto en compuertas nativas:')\n",
    "    display(qc_transpiled.draw('mpl'))\n",
    "\n",
    "    result = simulator.run(qc_transpiled,shots=shots).result()\n",
    "    noisy_result = noisy_simulator.run(noisy_qc_transpiled,shots=shots).result()\n",
    "\n",
    "    counts = result.get_counts(0)\n",
    "    noisy_counts = noisy_result.get_counts(0)\n",
    "\n",
    "    #print('Resultados ideales:')\n",
    "    #display(plot_histogram(counts))\n",
    "    \n",
    "    print('Resultados con ruido:')\n",
    "    display(plot_histogram(noisy_counts))\n",
    "    \n",
    "    results.append(noisy_counts)   \n",
    "\n",
    "    print('-----------------------------------------------------------------------------------------------------------------------------')"
   ]
  },
  {
   "cell_type": "code",
   "execution_count": null,
   "id": "ad2689f7",
   "metadata": {},
   "outputs": [],
   "source": [
    "#CALCULO DE PROBABILIDADES DE EXITO PARA CADA SIMULACION\n",
    "successCounts4=[]\n",
    "for i in results:\n",
    "    successCounts4.append((i['00']+i['11'])/shots)\n",
    "#print(successCounts4)"
   ]
  },
  {
   "cell_type": "code",
   "execution_count": null,
   "id": "e595ae3b",
   "metadata": {},
   "outputs": [],
   "source": [
    "# Crear el gráfico\n",
    "plt.plot(range(0,51), successCounts4, marker='o', linestyle='-')\n",
    "\n",
    "# Etiquetas de los ejes\n",
    "plt.xlabel('Cantidad de iteraciones de pares de compuertas X')\n",
    "plt.ylabel('Probabilidad de exito')\n",
    "\n",
    "# Título del gráfico\n",
    "plt.title('Probabilidad de exito con canal de relajación y desfase')\n",
    "\n",
    "# Mostrar el gráfico\n",
    "plt.grid(True)\n",
    "plt.show()"
   ]
  },
  {
   "cell_type": "markdown",
   "id": "84182769",
   "metadata": {},
   "source": [
    "## 6. Canal de SPAM"
   ]
  },
  {
   "cell_type": "markdown",
   "id": "09c86ef1",
   "metadata": {},
   "source": [
    "IBM Quantum proporciona información sobre el $\\textit{Prob meas 1 prep 0}$ y $\\textit{Prob meas 0 prep 1}$ para sus computadoras cuánticos. Estos datos representan, para cada qubit, la probabilidad de medir $1$ exactamente despues de haber preparado el qubit en $0$, y viceversa. Hasta ahora, hemos implementado este canal separando la probabilidad de medición y la de preparación de estado. Se recibe como parametro un $p_2$ que indica la probabilidad de error en la medición (dato encontrado en IBM Quantum como $\\textit{Readout Assignment error}$) y un $p'_2$ que indica la probabilidad de error en la preparación de estado (dato que, creemos , son los primeros dos mencionados arriba). Para implementar el ruido de medición, usamos errores de pauli sobre la operación $measurement$, pero para el ruido de preparación de estado, agregamos un capa extra de compuertas $X$ entre la preparación de estado y el circuito como tal.Sobre esta capa de $X$ se aplica la probabilidad de ruido. A futuro debemos plantearnos las siguientes dudas:\n",
    "\n",
    "* ¿Que representa, realmente, $\\textit{Prob meas 1 prep 0}$ y $\\textit{Prob meas 0 prep 1}$?\n",
    "* ¿Sera necesario realizar modificacion sobre nuestro canal SPAM para incorporar estos dos parametros?\n",
    "\n",
    "Estas preguntas vienen en base que, si bien creemos que los parametros representan el ruido de preparación de estado,hemos leido por internet que otras personas lo consideran una combinación del ruido de preparación de estado junto al de medición. Si resulta ser esto, probablemente hara falta modificar la implementación de este canal."
   ]
  },
  {
   "cell_type": "markdown",
   "id": "acea4976",
   "metadata": {},
   "source": [
    "### 6.1 Errores de medición"
   ]
  },
  {
   "cell_type": "code",
   "execution_count": null,
   "id": "780fb799",
   "metadata": {},
   "outputs": [],
   "source": [
    "results = []\n",
    "for i in errorProbabilities:\n",
    "    #ALGORITMO\n",
    "    print('PROBABILIDAD DE ERROR: ',i)\n",
    "\n",
    "    noiseModel = add_spam_channel(measurement_error_prob=i)\n",
    "    print('noise model: ',noiseModel)\n",
    "        \n",
    "    qr = QuantumRegister(nroQubits)\n",
    "    qc = QuantumCircuit(qr)\n",
    "    qc.h(qr)   \n",
    "    qc.compose(groverOp.decompose(), inplace=True)\n",
    "    qc.measure_all()\n",
    "    #display(qc.draw(\"mpl\"))\n",
    "    #display(qc.data)\n",
    "    \n",
    "    #EJECUCION\n",
    "    sim_noise = AerSimulator(noise_model=noiseModel)\n",
    "    circ_tnoise = transpile(qc, sim_noise,basis_gates=basis_gates)\n",
    "    display(circ_tnoise.draw('mpl'))\n",
    "    result = sim_noise.run(circ_tnoise,shots=shots).result()\n",
    "    counts = result.get_counts(0)\n",
    "    display(plot_histogram(counts))\n",
    "        \n",
    "    results.append(counts)"
   ]
  },
  {
   "cell_type": "code",
   "execution_count": null,
   "id": "d8307043",
   "metadata": {
    "run_control": {
     "marked": false
    }
   },
   "outputs": [],
   "source": [
    "#CALCULO DE PROBABILIDADES DE EXITO PARA CADA EXPERIMENTO\n",
    "successCounts5=[]\n",
    "for i in results:\n",
    "    currentCount = 0\n",
    "    for j in marked_states:\n",
    "        currentCount = currentCount + i[j]\n",
    "    successCounts5.append(currentCount/shots)\n",
    "print(successCounts5)"
   ]
  },
  {
   "cell_type": "code",
   "execution_count": null,
   "id": "b3c2341e",
   "metadata": {},
   "outputs": [],
   "source": [
    "# Crear el gráfico\n",
    "plt.plot(errorProbabilities, successCounts5, marker='o', linestyle='-')\n",
    "\n",
    "# Etiquetas de los ejes\n",
    "plt.xlabel('Probabilidad de error')\n",
    "plt.ylabel('Probabilidad de exito')\n",
    "\n",
    "# Título del gráfico\n",
    "plt.title('Probabilidad de exito con errores de medición')\n",
    "\n",
    "# Mostrar el gráfico\n",
    "plt.grid(True)\n",
    "plt.show()"
   ]
  },
  {
   "cell_type": "markdown",
   "id": "ba9280dc",
   "metadata": {},
   "source": [
    "### 6.2 Errores de preparación de estado"
   ]
  },
  {
   "cell_type": "code",
   "execution_count": null,
   "id": "2f757748",
   "metadata": {},
   "outputs": [],
   "source": [
    "results = []\n",
    "for i in errorProbabilities:\n",
    "    #ALGORITMO\n",
    "    print('PROBABILIDAD DE ERROR: ',i)\n",
    "     \n",
    "    # Compuerta X que se usara para representar el error de preparacion de estado\n",
    "    x_StatePreparation = XGate(label='x_StatePreparation')\n",
    "        \n",
    "    noiseModel = add_spam_channel(statePreparation_error_prob= i,statePreparation_error_gate= x_StatePreparation)\n",
    "    print('noise model: ',noiseModel)\n",
    "        \n",
    "    qr = QuantumRegister(nroQubits)\n",
    "    qc = QuantumCircuit(qr)\n",
    "    qc.h(qr)\n",
    "        \n",
    "    # Debemos crear manualmente una barrera de compuertas X que representaran el error de preparacion de estado\n",
    "    for q in range(nroQubits):\n",
    "        qc.append(x_StatePreparation,[q])\n",
    "    \n",
    "    qc.compose(groverOp.decompose(), inplace=True)\n",
    "    qc.measure_all()\n",
    "    #display(qc.draw(\"mpl\"))\n",
    "    #display(qc.data)\n",
    "    \n",
    "    #EJECUCION\n",
    "    simulator = AerSimulator(noise_model=noiseModel)\n",
    "    circ_tnoise = transpile(qc, simulator,basis_gates=basis_gates,optimization_level=0)\n",
    "    display(circ_tnoise.draw('mpl'))\n",
    "    result = simulator.run(circ_tnoise,shots=shots).result()\n",
    "    counts = result.get_counts(0)\n",
    "    display(plot_histogram(counts))\n",
    "        \n",
    "    results.append(counts)"
   ]
  },
  {
   "cell_type": "code",
   "execution_count": null,
   "id": "b7a62db6",
   "metadata": {},
   "outputs": [],
   "source": [
    "#CALCULO DE PROBABILIDADES DE EXITO PARA CADA EXPERIMENTO\n",
    "successCounts6=[]\n",
    "for i in results:\n",
    "    currentCount = 0\n",
    "    for j in marked_states:\n",
    "        currentCount = currentCount + i[j]\n",
    "    successCounts6.append(currentCount/shots)\n",
    "#print(successCounts6)"
   ]
  },
  {
   "cell_type": "code",
   "execution_count": null,
   "id": "c0bc97e9",
   "metadata": {},
   "outputs": [],
   "source": [
    "# Crear el gráfico\n",
    "plt.plot(errorProbabilities, successCounts6, marker='o', linestyle='-')\n",
    "\n",
    "# Etiquetas de los ejes\n",
    "plt.xlabel('Probabilidad de error')\n",
    "plt.ylabel('Probabilidad de exito')\n",
    "\n",
    "# Título del gráfico\n",
    "plt.title('Probabilidad de exito con errores de preparación de estado')\n",
    "\n",
    "# Mostrar el gráfico\n",
    "plt.grid(True)\n",
    "plt.show()"
   ]
  },
  {
   "cell_type": "markdown",
   "id": "bccf98b7",
   "metadata": {},
   "source": [
    "Se puede observar que, a diferencia del ruido de medición, el ruido de preparación de estado no aparece en ningún momento. La razón de esto es que este ruido se representa como una probabilidad $p'_2$ de que se aplique una compuerta $X$ luego de la preparación de estado. En el caso de grover's search, como la preparación de estado deja un registro de $n$ qubits en el estado $|+\\rangle$, la aplicación de un error representado por una compuerta $X$ no tiene efecto alguno.\n",
    "\n",
    "Para probar el correcto funcionamiento de este tipo de ruido, probaremos el siguiente circuito simple:"
   ]
  },
  {
   "cell_type": "code",
   "execution_count": null,
   "id": "6ec0b28d",
   "metadata": {},
   "outputs": [],
   "source": [
    "results=[]\n",
    "for i in errorProbabilities: \n",
    "    x_StatePreparation = XGate(label='x_StatePreparation')\n",
    "\n",
    "    noise_model = add_spam_channel(i,0,x_StatePreparation)\n",
    "    \n",
    "    qc = QuantumCircuit(2,2)\n",
    "    a = StatePreparation([0,1])\n",
    "    qc.append(a,[0])\n",
    "    for q in range(2):\n",
    "        qc.append(x_StatePreparation,[q])\n",
    "    qc.barrier()\n",
    "    qc.measure(range(2),range(2))\n",
    "\n",
    "\n",
    "    simulator = AerSimulator(\n",
    "        noise_model=noise_model\n",
    "    )\n",
    "    qc_transpiled = transpile(qc,simulator,optimization_level=0)\n",
    "    display(qc_transpiled.draw('mpl'))\n",
    "    result = simulator.run(qc_transpiled,shots=shots).result()\n",
    "    counts = result.get_counts(0)\n",
    "    display(plot_histogram(counts))\n",
    "    \n",
    "    results.append(counts)"
   ]
  },
  {
   "cell_type": "code",
   "execution_count": null,
   "id": "54835526",
   "metadata": {},
   "outputs": [],
   "source": [
    "#CALCULO DE PROBABILIDADES DE EXITO PARA CADA EXPERIMENTO\n",
    "successCounts7=[]\n",
    "for i in results:\n",
    "    successCounts7.append(i['01']/shots)\n",
    "print(successCounts7)"
   ]
  },
  {
   "cell_type": "code",
   "execution_count": null,
   "id": "e0e78798",
   "metadata": {},
   "outputs": [],
   "source": [
    "# Crear el gráfico\n",
    "plt.plot(errorProbabilities, successCounts7, marker='o', linestyle='-')\n",
    "\n",
    "# Etiquetas de los ejes\n",
    "plt.xlabel('Probabilidad de error')\n",
    "plt.ylabel('Probabilidad de exito')\n",
    "\n",
    "# Título del gráfico\n",
    "plt.title('Probabilidad de exito con errores de preparación de estado (NO EN GROVER\\'S SEARCH)')\n",
    "\n",
    "# Mostrar el gráfico\n",
    "plt.grid(True)\n",
    "plt.show()"
   ]
  },
  {
   "cell_type": "markdown",
   "id": "fae38e90",
   "metadata": {},
   "source": [
    "## Conclusiones"
   ]
  },
  {
   "cell_type": "markdown",
   "id": "dd493cbb",
   "metadata": {},
   "source": [
    "Los resultados obtenidos para simulación de ruido de depolarizacion en compuertas de 1 qubit y de 2 qubits son los siguientes: "
   ]
  },
  {
   "cell_type": "code",
   "execution_count": null,
   "id": "3046846d",
   "metadata": {
    "hide_input": false
   },
   "outputs": [],
   "source": [
    "# Crear el gráfico\n",
    "plt.plot(errorProbabilities, successCounts1, marker='o', linestyle='-', label='Ruido en compuertas 1Q')\n",
    "plt.plot(errorProbabilities, successCounts2, marker='o', linestyle='-', label='Ruido en compuertas 2Q')\n",
    "plt.plot(errorProbabilities, successCounts3, marker='o', linestyle='-', label='Ruido en todas las compuertas')\n",
    "\n",
    "\n",
    "# Etiquetas de los ejes\n",
    "plt.xlabel('Probabilidad de error')\n",
    "plt.ylabel('Probabilidad de exito')\n",
    "\n",
    "# Título del gráfico\n",
    "plt.title('Probabilidad de exito con errores de depolarizacion')\n",
    "\n",
    "plt.legend()\n",
    "\n",
    "# Mostrar el gráfico\n",
    "plt.grid(True)\n",
    "plt.show()"
   ]
  },
  {
   "cell_type": "markdown",
   "id": "e4b5d21b",
   "metadata": {},
   "source": [
    "Se sabe que, desde un punto teorico, el ruido generado en compuerta de dos qubits afecta mas al resultado que el ruido en compuertas de un qubit. Este hecho no se ve representado en la grafica previamente mostrada. Creemos que esto se debe, principalmente,a la diferencia en cantidad de compuertas de 1 qubit respecto a las de 2 qubits."
   ]
  },
  {
   "cell_type": "markdown",
   "id": "583c1aac",
   "metadata": {},
   "source": [
    "## Referencias"
   ]
  },
  {
   "cell_type": "markdown",
   "id": "1c85582a",
   "metadata": {},
   "source": [
    "1. StackExchange - Quantum Computing | How to actually send Qiskit code to the que to be ran on an IBM Quantum Computer? https://quantumcomputing.stackexchange.com/questions/26863/how-to-actually-send-qiskit-code-to-the-que-to-be-ran-on-an-ibm-quantum-computer \n",
    "\n",
    "2. How to Show Images in Jupyter Notebook?\n",
    "https://saturncloud.io/blog/how-to-show-images-in-jupyter-notebook/\n",
    "\n",
    "3. Qiskit - Building noise models\n",
    "https://qiskit.org/ecosystem/aer/tutorials/3_building_noise_models.html\n",
    "\n",
    "4. IBM Quantum calibration data\n",
    "https://quantumcomputing.stackexchange.com/questions/17054/characteristics-of-the-ibm-quantum-computer"
   ]
  }
 ],
 "metadata": {
  "kernelspec": {
   "display_name": "Python 3 (ipykernel)",
   "language": "python",
   "name": "python3"
  },
  "language_info": {
   "codemirror_mode": {
    "name": "ipython",
    "version": 3
   },
   "file_extension": ".py",
   "mimetype": "text/x-python",
   "name": "python",
   "nbconvert_exporter": "python",
   "pygments_lexer": "ipython3",
   "version": "3.8.18"
  }
 },
 "nbformat": 4,
 "nbformat_minor": 5
}
