{
 "cells": [
  {
   "cell_type": "code",
   "execution_count": 12,
   "id": "e821b8e8",
   "metadata": {},
   "outputs": [],
   "source": [
    "from qiskit import QuantumCircuit\n",
    "from qiskit.visualization.qcstyle import DefaultStyle"
   ]
  },
  {
   "cell_type": "code",
   "execution_count": 13,
   "id": "05f528e2",
   "metadata": {},
   "outputs": [],
   "source": [
    "color1 = { 'x': ('#05BAB6', '#000000'),}"
   ]
  },
  {
   "cell_type": "code",
   "execution_count": 9,
   "id": "7a677e9c",
   "metadata": {},
   "outputs": [
    {
     "data": {
      "text/plain": [
       "<qiskit.circuit.instructionset.InstructionSet at 0x2f8f2b8e7d0>"
      ]
     },
     "execution_count": 9,
     "metadata": {},
     "output_type": "execute_result"
    }
   ],
   "source": [
    "qc = QuantumCircuit(3,3)\n",
    "\n",
    "qc.h(0)\n",
    "qc.cx(0,1)\n",
    "qc.h(2)\n",
    "qc.cz(1,2)\n",
    "\n",
    "qc.measure(range(3),range(3))\n",
    "qc.draw('mpl',c)\n",
    "qc.draw()\n"
   ]
  }
 ],
 "metadata": {
  "kernelspec": {
   "display_name": "Python 3 (ipykernel)",
   "language": "python",
   "name": "python3"
  },
  "language_info": {
   "codemirror_mode": {
    "name": "ipython",
    "version": 3
   },
   "file_extension": ".py",
   "mimetype": "text/x-python",
   "name": "python",
   "nbconvert_exporter": "python",
   "pygments_lexer": "ipython3",
   "version": "3.10.11"
  }
 },
 "nbformat": 4,
 "nbformat_minor": 5
}
