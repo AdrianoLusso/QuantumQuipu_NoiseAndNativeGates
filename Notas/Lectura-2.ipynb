{
 "cells": [
  {
   "cell_type": "markdown",
   "id": "7ee487e5-b496-4713-9511-3f34e12f2947",
   "metadata": {},
   "source": [
    "### Lectura Articulo: Modelling and Simulating the Noisy Behaviour of Near-term Quantum Computers\n",
    "Modelado y simulación el comportamiento ruidoso de computadores cuánticos de corto plazo\n"
   ]
  },
  {
   "cell_type": "markdown",
   "id": "bbbd241d-cc0c-4f29-b6cf-4f5f025ca76d",
   "metadata": {},
   "source": [
    "near-term quantum computers\n",
    "\n",
    "https://www.linkedin.com/pulse/algorithms-near-term-quantum-computers-kalyan-dasgupta#:~:text=The%20quantum%20computers%20with%20hundreds,the%20advantage%20over%20classical%20computers.\n",
    "\n",
    "Las cinco generaciones que IBM ha desarrollado de computadores cuánticos al 2022, puestos en la nube:\n",
    "\n",
    "- 1 maquina de 5 qubits en 2016\n",
    "- maquina de 127 qubits en 2021\n",
    "\n",
    "The quantum computers with hundreds of qubits are called near-term quantum computers and while it might not have ground breaking applications right away, the pace of Quantum research indicates the imminent achievement of the advantage over classical computers. \n",
    "\n",
    "Los computadores cuánticos de cientos de qubits son llamados computadores cuánticos de término cercano - corto plazo.  "
   ]
  },
  {
   "cell_type": "markdown",
   "id": "a38e9179-0567-401b-ac55-291f6cb1950a",
   "metadata": {},
   "source": [
    "Ruido: Afecta todos los computadores actuales en todos sus calculos.\n",
    "\n",
    "NISQ Noisy Intermediate Scale Quantum: Cuántica de escala intermedia ruidosa\n",
    "\n",
    "El articulo se enfoca en tres grupos de error que representan las principales fuentes de ruido durante un calculo y presentan los canales cuánticos que modelan cada fuente.\n",
    "\n",
    "- Proponen un modelo de ruido que combina todos los tres canales de ruido.\n",
    "- Simulan la evolución del computador cuántico usando sus tasas de error calibradas.\n",
    "- Corren varios experimentos del modelo\n",
    "- Comparan con otros modelos y un computador cuántico de IBM\n",
    "- Encuentran que su modelo proporciona una mejor aproximación del comportamiendo del computador cuántico que otros modelos.\n",
    "- Utilizan un algoritmo genetico para optimizar los parametros usados por su modelo de ruido, mejorando la aproximación.\n",
    "- Finalmente, comparan la pre y post optimización que revela que ciertas operaciones pueden ser más o menos erroneás que los parametros calibrados del hardware.\n",
    "\n",
    "\n"
   ]
  },
  {
   "cell_type": "markdown",
   "id": "a5a1f590-86a6-4162-b817-030d5c495b46",
   "metadata": {},
   "source": [
    "Introducción:\n",
    "RUIDO obstaculo para\n",
    "- Construir qc y ejecutar largos calculos\n",
    "\n",
    "INFIDELITIES of the quantum hardware.\n",
    "\n",
    "INTERACCIONES NO DESEADAS CON EL AMBIENTE\n",
    "\n",
    "restricciones sobre:\n",
    "ERROR RATES - ERROR LOCALITY\n",
    "Que son?\n",
    "\n",
    "METODO PARA MITIGAR ERROR: CORRECCIÓN CUÁNTICA DE ERRORES: Considera las fuentes de error más probables.\n",
    "\n",
    "CALIBRATION, a que se refiere en computadores cuánticos?\n"
   ]
  },
  {
   "cell_type": "markdown",
   "id": "50bf0188-2e69-47fa-bbc1-a3b7a9dd8075",
   "metadata": {},
   "source": [
    "Modelo de error más común: Despolarización del canal de Pauli (depolarizing Pauli\n",
    "channel)\n",
    "- Cliford Operations: para aproximar errores cuánticos.\n",
    "- Una gran fuente de error viene de interacciones non-unital entre el sistema cuántico y el ambiente. causa de deciherencia en varias formas: thermal relaxation/excitation.\n",
    "- Que significa una simulación de ruido\n",
    "- LO QUE SE BUSCA, es una aproximación a la evolución de un computador cuántico."
   ]
  },
  {
   "cell_type": "code",
   "execution_count": null,
   "id": "d3ecf8cc-fb70-4bb9-bf77-64aae3df32bc",
   "metadata": {},
   "outputs": [],
   "source": []
  },
  {
   "cell_type": "code",
   "execution_count": null,
   "id": "658bb27b-796c-47a8-98d5-98398e13ecc5",
   "metadata": {},
   "outputs": [],
   "source": []
  }
 ],
 "metadata": {
  "kernelspec": {
   "display_name": "Python 3 (ipykernel)",
   "language": "python",
   "name": "python3"
  },
  "language_info": {
   "codemirror_mode": {
    "name": "ipython",
    "version": 3
   },
   "file_extension": ".py",
   "mimetype": "text/x-python",
   "name": "python",
   "nbconvert_exporter": "python",
   "pygments_lexer": "ipython3",
   "version": "3.8.6"
  }
 },
 "nbformat": 4,
 "nbformat_minor": 5
}
